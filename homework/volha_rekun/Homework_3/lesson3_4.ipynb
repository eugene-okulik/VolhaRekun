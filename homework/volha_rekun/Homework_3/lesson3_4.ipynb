{
 "cells": [
  {
   "cell_type": "code",
   "execution_count": 1,
   "metadata": {},
   "outputs": [
    {
     "name": "stdout",
     "output_type": "stream",
     "text": [
      "ploszad = 10\n",
      "gipotenuza = 3.605551275463989\n"
     ]
    }
   ],
   "source": [
    "# Даны катеты прямоугольного треугольника. Найти его гипотенузу и площадь\n",
    "\n",
    "from math import sqrt  \n",
    "\n",
    "katet1 = 3\n",
    "katet2 = 2\n",
    "gipotenuza = sqrt(katet1**2 + katet2**2)\n",
    "\n",
    "ploszad = (katet1 + katet2) * 2 \n",
    "print(\"ploszad =\", ploszad)\n",
    "print(\"gipotenuza =\", gipotenuza)"
   ]
  }
 ],
 "metadata": {
  "kernelspec": {
   "display_name": "Python 3",
   "language": "python",
   "name": "python3"
  },
  "language_info": {
   "codemirror_mode": {
    "name": "ipython",
    "version": 3
   },
   "file_extension": ".py",
   "mimetype": "text/x-python",
   "name": "python",
   "nbconvert_exporter": "python",
   "pygments_lexer": "ipython3",
   "version": "3.12.3"
  }
 },
 "nbformat": 4,
 "nbformat_minor": 2
}
