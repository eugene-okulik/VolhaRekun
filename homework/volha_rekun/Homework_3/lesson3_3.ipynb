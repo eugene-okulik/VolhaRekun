{
 "cells": [
  {
   "cell_type": "code",
   "execution_count": 7,
   "metadata": {},
   "outputs": [
    {
     "name": "stdout",
     "output_type": "stream",
     "text": [
      "srednee_arifm = 41.5\n",
      "srednee_geometr = 40.8166632639171\n"
     ]
    }
   ],
   "source": [
    "# Даны два числа. Найти среднее арифметическое и среднее геометрическое этих чисел\n",
    "from math import sqrt \n",
    "\n",
    "\n",
    "chislo_1 = 34\n",
    "chislo_2 = 49\n",
    "srednee_arifm = (chislo_1 + chislo_2) / 2\n",
    "srednee_geometr = sqrt (chislo_1 * chislo_2)\n",
    "print(\"srednee_arifm =\", srednee_arifm)\n",
    "print(\"srednee_geometr =\", srednee_geometr)"
   ]
  }
 ],
 "metadata": {
  "kernelspec": {
   "display_name": "Python 3",
   "language": "python",
   "name": "python3"
  },
  "language_info": {
   "codemirror_mode": {
    "name": "ipython",
    "version": 3
   },
   "file_extension": ".py",
   "mimetype": "text/x-python",
   "name": "python",
   "nbconvert_exporter": "python",
   "pygments_lexer": "ipython3",
   "version": "3.12.3"
  }
 },
 "nbformat": 4,
 "nbformat_minor": 2
}
